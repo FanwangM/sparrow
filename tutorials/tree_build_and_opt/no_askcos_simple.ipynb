{
 "cells": [
  {
   "attachments": {},
   "cell_type": "markdown",
   "metadata": {},
   "source": [
    "# Tutorial for Simple Route Optimization without ASKCOS \n",
    "Tutorial without ASCKOS. Paths from ASKCOS were generated previously and used to create a RouteGraph. Scores were already assigned to them.   \n"
   ]
  },
  {
   "attachments": {},
   "cell_type": "markdown",
   "metadata": {},
   "source": [
    "### Import Targets and Scores"
   ]
  },
  {
   "cell_type": "code",
   "execution_count": 1,
   "metadata": {},
   "outputs": [],
   "source": [
    "target_dict = {\n",
    "    \"COC5=CC(N=CN=C6NC7=CC=CC(OC)=C7)=C6C=C5OC\" : 3,\n",
    "    \"COC1=CC(N=CN=C2NC3=CC=C(OCC4=CC=CC=C4)C=C3)=C2C=C1OC\" : 4,\n",
    "    \"COC8=CC(N=CN=C9NC%10=CC=CC(Cl)=C%10)=C9C=C8OC\" : 2,\n",
    "    \"COC%11=CC(N=CN=C%12NC%13=CC=CC(O)=C%13)=C%12C=C%11OC\" : 11,\n",
    "    \"COC%14=CC(N=CN=C%15NC%16=CC=C(NC(C%17=CC=CC=C%17)=O)C=C%16)=C%15C=C%14OC\" : 14,\n",
    "}"
   ]
  },
  {
   "attachments": {},
   "cell_type": "markdown",
   "metadata": {},
   "source": [
    "### Import paths and create route graph"
   ]
  },
  {
   "cell_type": "code",
   "execution_count": 2,
   "metadata": {},
   "outputs": [],
   "source": [
    "import pickle\n",
    "\n",
    "route_graph_filename = 'route_graph_w_scores.pickle'\n",
    "with open(route_graph_filename, 'rb') as file:\n",
    "    route_graph = pickle.load(file)"
   ]
  },
  {
   "attachments": {},
   "cell_type": "markdown",
   "metadata": {},
   "source": [
    "### Set up the problem and solve \n",
    "After loading the previously saved route_graph (which has reaction scores already), create a RouteSelector object. \n",
    "Define optimization problem variables, set the objectives and constraints, and finally solve"
   ]
  },
  {
   "cell_type": "code",
   "execution_count": 3,
   "metadata": {},
   "outputs": [
    {
     "name": "stderr",
     "output_type": "stream",
     "text": [
      "/home/jfromer/anaconda3/envs/askcos/lib/python3.7/site-packages/pulp/pulp.py:1704: UserWarning: Overwriting previously set objective.\n",
      "  warnings.warn(\"Overwriting previously set objective.\")\n"
     ]
    },
    {
     "name": "stdout",
     "output_type": "stream",
     "text": [
      "Welcome to the CBC MILP Solver \n",
      "Version: 2.10.3 \n",
      "Build Date: Dec 15 2019 \n",
      "\n",
      "command line - /home/jfromer/anaconda3/envs/askcos/lib/python3.7/site-packages/pulp/apis/../solverdir/cbc/linux/64/cbc /tmp/b715271de47740858eb77636cbdee72d-pulp.mps timeMode elapsed branch printingOptions all solution /tmp/b715271de47740858eb77636cbdee72d-pulp.sol (default strategy 1)\n",
      "At line 2 NAME          MODEL\n",
      "At line 3 ROWS\n",
      "At line 3369 COLUMNS\n",
      "At line 35836 RHS\n",
      "At line 39201 BOUNDS\n",
      "At line 48106 ENDATA\n",
      "Problem MODEL has 3364 rows, 8904 columns and 13423 elements\n",
      "Coin0008I MODEL read with 0 errors\n",
      "Option for timeMode changed from cpu to elapsed\n",
      "Continuous objective value is -30.1792 - 0.01 seconds\n",
      "Cgl0003I 0 fixed, 178 tightened bounds, 259 strengthened rows, 0 substitutions\n",
      "Cgl0003I 0 fixed, 153 tightened bounds, 152 strengthened rows, 0 substitutions\n",
      "Cgl0003I 0 fixed, 0 tightened bounds, 6 strengthened rows, 2 substitutions\n",
      "Cgl0003I 0 fixed, 0 tightened bounds, 5 strengthened rows, 0 substitutions\n",
      "Cgl0003I 0 fixed, 0 tightened bounds, 3 strengthened rows, 0 substitutions\n",
      "Cgl0003I 0 fixed, 0 tightened bounds, 2 strengthened rows, 0 substitutions\n",
      "Cgl0003I 0 fixed, 0 tightened bounds, 2 strengthened rows, 0 substitutions\n",
      "Cgl0004I processed model has 1296 rows, 1826 columns (1826 integer (1286 of which binary)) and 4185 elements\n",
      "Cbc0038I Initial state - 7 integers unsatisfied sum - 1.83333\n",
      "Cbc0038I Pass   1: suminf.    1.63333 (6) obj. -23.2714 iterations 56\n",
      "Cbc0038I Solution found of -18.8954\n",
      "Cbc0038I Cleaned solution of -18.8954\n",
      "Cbc0038I Before mini branch and bound, 1819 integers at bound fixed and 0 continuous of which 1 were internal integer and 0 internal continuous\n",
      "Cbc0038I Mini branch and bound did not improve solution (0.10 seconds)\n",
      "Cbc0038I Round again with cutoff of -19.353\n",
      "Cbc0038I Reduced cost fixing fixed 153 variables on major pass 2\n",
      "Cbc0038I Pass   2: suminf.    1.63333 (6) obj. -23.2714 iterations 0\n",
      "Cbc0038I Pass   3: suminf.    0.44917 (1) obj. -19.353 iterations 32\n",
      "Cbc0038I Pass   4: suminf.    0.50000 (1) obj. -19.4048 iterations 12\n",
      "Cbc0038I Pass   5: suminf.    2.54589 (10) obj. -19.353 iterations 54\n",
      "Cbc0038I Pass   6: suminf.    2.54589 (10) obj. -19.353 iterations 22\n",
      "Cbc0038I Pass   7: suminf.    2.14589 (9) obj. -19.353 iterations 19\n",
      "Cbc0038I Pass   8: suminf.    2.14589 (8) obj. -19.353 iterations 3\n",
      "Cbc0038I Pass   9: suminf.    2.14589 (8) obj. -19.353 iterations 17\n",
      "Cbc0038I Pass  10: suminf.    2.14589 (8) obj. -19.353 iterations 5\n",
      "Cbc0038I Pass  11: suminf.    2.14589 (8) obj. -19.353 iterations 15\n",
      "Cbc0038I Pass  12: suminf.    2.91280 (13) obj. -19.353 iterations 41\n",
      "Cbc0038I Pass  13: suminf.    2.75386 (12) obj. -19.353 iterations 35\n",
      "Cbc0038I Pass  14: suminf.    2.91280 (12) obj. -19.353 iterations 24\n",
      "Cbc0038I Pass  15: suminf.    2.91273 (13) obj. -19.353 iterations 22\n",
      "Cbc0038I Pass  16: suminf.    2.75393 (12) obj. -19.353 iterations 31\n",
      "Cbc0038I Pass  17: suminf.    2.91274 (12) obj. -19.353 iterations 23\n",
      "Cbc0038I Pass  18: suminf.    2.42135 (10) obj. -19.353 iterations 42\n",
      "Cbc0038I Pass  19: suminf.    2.42135 (10) obj. -19.353 iterations 17\n",
      "Cbc0038I Pass  20: suminf.    2.02083 (9) obj. -19.353 iterations 22\n",
      "Cbc0038I Pass  21: suminf.    2.02083 (9) obj. -19.353 iterations 5\n",
      "Cbc0038I Pass  22: suminf.    2.02083 (9) obj. -19.353 iterations 19\n",
      "Cbc0038I Pass  23: suminf.    2.02083 (9) obj. -19.353 iterations 7\n",
      "Cbc0038I Pass  24: suminf.    2.02083 (9) obj. -19.353 iterations 18\n",
      "Cbc0038I Pass  25: suminf.    3.35485 (14) obj. -19.353 iterations 52\n",
      "Cbc0038I Pass  26: suminf.    3.35485 (14) obj. -19.353 iterations 25\n",
      "Cbc0038I Pass  27: suminf.    2.86425 (12) obj. -19.353 iterations 22\n",
      "Cbc0038I Pass  28: suminf.    3.20242 (12) obj. -19.353 iterations 30\n",
      "Cbc0038I Pass  29: suminf.    3.20147 (13) obj. -19.353 iterations 34\n",
      "Cbc0038I Pass  30: suminf.    2.86519 (12) obj. -19.353 iterations 55\n",
      "Cbc0038I Pass  31: suminf.    3.20147 (12) obj. -19.353 iterations 26\n",
      "Cbc0038I No solution found this major pass\n",
      "Cbc0038I Before mini branch and bound, 1772 integers at bound fixed and 0 continuous\n",
      "Cbc0038I Full problem 1296 rows 1826 columns, reduced to 14 rows 17 columns\n",
      "Cbc0038I Mini branch and bound improved solution from -18.8954 to -18.9143 (0.17 seconds)\n",
      "Cbc0038I Round again with cutoff of -20.1767\n",
      "Cbc0038I Reduced cost fixing fixed 223 variables on major pass 3\n",
      "Cbc0038I Pass  31: suminf.    1.63333 (6) obj. -23.2714 iterations 0\n",
      "Cbc0038I Pass  32: suminf.    0.93857 (3) obj. -20.1767 iterations 34\n",
      "Cbc0038I Pass  33: suminf.    0.93857 (3) obj. -20.1767 iterations 0\n",
      "Cbc0038I Pass  34: suminf.    0.70000 (2) obj. -20.2048 iterations 14\n",
      "Cbc0038I Pass  35: suminf.    0.67242 (2) obj. -20.1767 iterations 10\n",
      "Cbc0038I Pass  36: suminf.    0.93857 (3) obj. -20.1767 iterations 12\n",
      "Cbc0038I Pass  37: suminf.    2.12793 (8) obj. -20.1767 iterations 37\n",
      "Cbc0038I Pass  38: suminf.    1.54048 (6) obj. -20.1767 iterations 25\n",
      "Cbc0038I Pass  39: suminf.    1.72793 (6) obj. -20.1767 iterations 13\n",
      "Cbc0038I Pass  40: suminf.    1.63333 (6) obj. -20.2713 iterations 13\n",
      "Cbc0038I Pass  41: suminf.    1.72793 (6) obj. -20.1767 iterations 14\n",
      "Cbc0038I Pass  42: suminf.    2.19377 (8) obj. -20.1767 iterations 39\n",
      "Cbc0038I Pass  43: suminf.    1.63333 (6) obj. -20.3376 iterations 31\n",
      "Cbc0038I Pass  44: suminf.    2.07236 (7) obj. -20.1767 iterations 21\n",
      "Cbc0038I Pass  45: suminf.    2.07236 (7) obj. -20.1767 iterations 4\n",
      "Cbc0038I Pass  46: suminf.    1.67236 (6) obj. -20.1767 iterations 19\n",
      "Cbc0038I Pass  47: suminf.    1.67236 (5) obj. -20.1767 iterations 3\n",
      "Cbc0038I Pass  48: suminf.    1.67236 (5) obj. -20.1767 iterations 16\n",
      "Cbc0038I Pass  49: suminf.    1.67236 (5) obj. -20.1767 iterations 1\n",
      "Cbc0038I Pass  50: suminf.    1.67236 (5) obj. -20.1767 iterations 16\n",
      "Cbc0038I Pass  51: suminf.    2.12810 (8) obj. -20.1767 iterations 38\n",
      "Cbc0038I Pass  52: suminf.    1.54032 (6) obj. -20.1767 iterations 41\n",
      "Cbc0038I Pass  53: suminf.    1.72810 (6) obj. -20.1767 iterations 15\n",
      "Cbc0038I Pass  54: suminf.    2.18729 (9) obj. -20.1767 iterations 47\n",
      "Cbc0038I Pass  55: suminf.    2.18729 (9) obj. -20.1767 iterations 32\n",
      "Cbc0038I Pass  56: suminf.    2.18729 (9) obj. -20.1767 iterations 0\n",
      "Cbc0038I Pass  57: suminf.    2.14604 (7) obj. -20.1767 iterations 21\n",
      "Cbc0038I Pass  58: suminf.    1.78729 (7) obj. -20.1767 iterations 16\n",
      "Cbc0038I Pass  59: suminf.    1.78729 (7) obj. -20.1767 iterations 21\n",
      "Cbc0038I Pass  60: suminf.    1.78729 (7) obj. -20.1767 iterations 0\n",
      "Cbc0038I No solution found this major pass\n",
      "Cbc0038I Before mini branch and bound, 1798 integers at bound fixed and 0 continuous of which 1 were internal integer and 0 internal continuous\n",
      "Cbc0038I Full problem 1296 rows 1826 columns, reduced to 10 rows 12 columns\n",
      "Cbc0038I Mini branch and bound did not improve solution (0.21 seconds)\n",
      "Cbc0038I After 0.21 seconds - Feasibility pump exiting with objective of -18.9143 - took 0.12 seconds\n",
      "Cbc0012I Integer solution of -18.914267 found by feasibility pump after 0 iterations and 0 nodes (0.21 seconds)\n",
      "Cbc0012I Integer solution of -18.914796 found by DiveCoefficient after 80 iterations and 0 nodes (0.25 seconds)\n",
      "Cbc0031I 23 added rows had average density of 7.3043478\n",
      "Cbc0013I At root node, 23 cuts changed objective from -23.471431 to -18.914796 in 9 passes\n",
      "Cbc0014I Cut generator 0 (Probing) - 118 row cuts average 2.6 elements, 187 column cuts (187 active)  in 0.006 seconds - new frequency is 1\n",
      "Cbc0014I Cut generator 1 (Gomory) - 10 row cuts average 15.4 elements, 0 column cuts (0 active)  in 0.002 seconds - new frequency is 1\n",
      "Cbc0014I Cut generator 2 (Knapsack) - 23 row cuts average 3.3 elements, 0 column cuts (0 active)  in 0.005 seconds - new frequency is 1\n",
      "Cbc0014I Cut generator 3 (Clique) - 0 row cuts average 0.0 elements, 0 column cuts (0 active)  in 0.000 seconds - new frequency is -100\n",
      "Cbc0014I Cut generator 4 (MixedIntegerRounding2) - 33 row cuts average 10.8 elements, 0 column cuts (0 active)  in 0.002 seconds - new frequency is 1\n",
      "Cbc0014I Cut generator 5 (FlowCover) - 0 row cuts average 0.0 elements, 0 column cuts (0 active)  in 0.001 seconds - new frequency is -100\n",
      "Cbc0014I Cut generator 6 (TwoMirCuts) - 48 row cuts average 20.1 elements, 0 column cuts (0 active)  in 0.003 seconds - new frequency is 1\n",
      "Cbc0014I Cut generator 7 (ZeroHalf) - 32 row cuts average 8.3 elements, 0 column cuts (0 active)  in 0.008 seconds - new frequency is 1\n",
      "Cbc0001I Search completed - best objective -18.914795969758, took 80 iterations and 0 nodes (0.26 seconds)\n",
      "Cbc0035I Maximum depth 0, 138 variables fixed on reduced cost\n",
      "Cuts at root node changed objective from -23.4714 to -18.9148\n",
      "Probing was tried 9 times and created 305 cuts of which 0 were active after adding rounds of cuts (0.006 seconds)\n",
      "Gomory was tried 9 times and created 10 cuts of which 0 were active after adding rounds of cuts (0.002 seconds)\n",
      "Knapsack was tried 9 times and created 23 cuts of which 0 were active after adding rounds of cuts (0.005 seconds)\n",
      "Clique was tried 9 times and created 0 cuts of which 0 were active after adding rounds of cuts (0.000 seconds)\n",
      "MixedIntegerRounding2 was tried 9 times and created 33 cuts of which 0 were active after adding rounds of cuts (0.002 seconds)\n",
      "FlowCover was tried 9 times and created 0 cuts of which 0 were active after adding rounds of cuts (0.001 seconds)\n",
      "TwoMirCuts was tried 9 times and created 48 cuts of which 0 were active after adding rounds of cuts (0.003 seconds)\n",
      "ZeroHalf was tried 9 times and created 32 cuts of which 0 were active after adding rounds of cuts (0.008 seconds)\n",
      "\n",
      "Result - Optimal solution found\n",
      "\n",
      "Objective value:                -18.91479597\n",
      "Enumerated nodes:               0\n",
      "Total iterations:               80\n",
      "Time (CPU seconds):             0.25\n",
      "Time (Wallclock seconds):       0.27\n",
      "\n",
      "Option for printingOptions changed from normal to all\n",
      "Total time (CPU seconds):       0.27   (Wallclock seconds):       0.29\n",
      "\n",
      "Optimization problem completed...\n"
     ]
    }
   ],
   "source": [
    "from sparrow.route_selector import RouteSelector\n",
    "\n",
    "route_selector = RouteSelector(\n",
    "    route_graph,\n",
    "    target_dict,\n",
    "    calc_reaction_scores=False,\n",
    "    weights=[1,1,1,1]\n",
    ")\n",
    "\n",
    "route_selector.define_variables()\n",
    "route_selector.set_objective()\n",
    "route_selector.set_constraints()\n",
    "route_selector.optimize(solver=None)\n",
    "\n"
   ]
  },
  {
   "attachments": {},
   "cell_type": "markdown",
   "metadata": {},
   "source": [
    "### Visualize the results "
   ]
  },
  {
   "cell_type": "code",
   "execution_count": 4,
   "metadata": {},
   "outputs": [
    {
     "name": "stdout",
     "output_type": "stream",
     "text": [
      "Selected targets: \n",
      "COc1cc2ncnc(Nc3cccc(O)c3)c2cc1OC\n",
      "COc1cccc(Nc2ncnc3cc(OC)c(OC)cc23)c1\n",
      "COc1cc2ncnc(Nc3ccc(NC(=O)c4ccccc4)cc3)c2cc1OC\n"
     ]
    },
    {
     "data": {
      "image/png": "[encoded data removed]",
      "text/plain": [
       "<Figure size 432x288 with 1 Axes>"
      ]
     },
     "metadata": {},
     "output_type": "display_data"
    }
   ],
   "source": [
    "from sparrow.visualizer import Visualizer\n",
    "import matplotlib.pyplot as plt\n",
    "\n",
    "vis = Visualizer(\n",
    "    route_graph,\n",
    "    nonzero_vars=route_selector.optimal_variables(),\n",
    "    )\n",
    "\n",
    "fig_out_dir = \"optimal_routes.png\"\n",
    "vis.plot_graph(fig_out_dir)\n",
    "\n",
    "plt.show()"
   ]
  }
 ],
 "metadata": {
  "kernelspec": {
   "display_name": "askcos",
   "language": "python",
   "name": "python3"
  },
  "language_info": {
   "codemirror_mode": {
    "name": "ipython",
    "version": 3
   },
   "file_extension": ".py",
   "mimetype": "text/x-python",
   "name": "python",
   "nbconvert_exporter": "python",
   "pygments_lexer": "ipython3",
   "version": "3.7.8"
  },
  "orig_nbformat": 4
 },
 "nbformat": 4,
 "nbformat_minor": 2
}
