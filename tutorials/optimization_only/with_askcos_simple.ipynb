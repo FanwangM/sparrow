{
 "cells": [
  {
   "attachments": {},
   "cell_type": "markdown",
   "metadata": {},
   "source": [
    "# Tutorial for Simple Route Optimization with ASKCOS \n",
    "Assumes ASKCOS exists in directory and can be imported. \n",
    "Follow installation instructions in README"
   ]
  },
  {
   "attachments": {},
   "cell_type": "markdown",
   "metadata": {},
   "source": [
    "### Define Targets and Scores\n",
    "These are Compounds 2-6 from Figure 2 in [1]. Scores are arbitrary.  \n",
    "\n",
    "[1] Kettle JG, Wilson DM. Drug Discov Today. 2016;21(10):1596-1608. doi:10.1016/j.drudis.2016.06.007"
   ]
  },
  {
   "cell_type": "code",
   "execution_count": 1,
   "metadata": {},
   "outputs": [],
   "source": [
    "target_dict = {\n",
    "    \"COC5=CC(N=CN=C6NC7=CC=CC(OC)=C7)=C6C=C5OC\" : 3,\n",
    "    \"COC1=CC(N=CN=C2NC3=CC=C(OCC4=CC=CC=C4)C=C3)=C2C=C1OC\" : 4,\n",
    "    \"COC8=CC(N=CN=C9NC%10=CC=CC(Cl)=C%10)=C9C=C8OC\" : 2,\n",
    "    \"COC%11=CC(N=CN=C%12NC%13=CC=CC(O)=C%13)=C%12C=C%11OC\" : 11,\n",
    "    \"COC%14=CC(N=CN=C%15NC%16=CC=C(NC(C%17=CC=CC=C%17)=O)C=C%16)=C%15C=C%14OC\" : 14,\n",
    "}"
   ]
  },
  {
   "attachments": {},
   "cell_type": "markdown",
   "metadata": {},
   "source": [
    "### Build Tree "
   ]
  },
  {
   "cell_type": "code",
   "execution_count": null,
   "metadata": {},
   "outputs": [],
   "source": [
    "import sys, os \n",
    "sys.path.append('/home/jfromer/sparrow/askcos-core') # change this for your system to where askcos folder is located\n",
    "os.environ[\"CUDA_VISIBLE_DEVICES\"]=\"-1\" # use askcos on CPUs only \n",
    "\n",
    "from sparrow.tree_build_utils import build_rxn_graph\n",
    "route_graph = build_rxn_graph(\n",
    "    target_smis=list(target_dict.keys()),\n",
    "    n_cpus=10,\n",
    "    time_per_target=15\n",
    ")"
   ]
  },
  {
   "attachments": {},
   "cell_type": "markdown",
   "metadata": {},
   "source": [
    "Save the route_graph"
   ]
  },
  {
   "cell_type": "code",
   "execution_count": 3,
   "metadata": {},
   "outputs": [],
   "source": [
    "route_graph.save(filename=\"tutorials/simple_askcos/simple_route_graph_w_scores.pickle\")"
   ]
  },
  {
   "attachments": {},
   "cell_type": "markdown",
   "metadata": {},
   "source": [
    "### Set up the problem and solve \n",
    "First, define RouteSelector object and calculate reaction scores. Only reason to _not_ calculate scores is if you are loading a previously saved route_graph which has reaction scores already. (Reaction scores indicate how confident the ASCKOS forward predictor module is in desired product actually being produced)\n",
    "Second, define optimization problem variables, set the objectives and constraints, and finally solve"
   ]
  },
  {
   "cell_type": "code",
   "execution_count": null,
   "metadata": {},
   "outputs": [],
   "source": [
    "from sparrow.route_selector import RouteSelector\n",
    "\n",
    "route_selector = RouteSelector(\n",
    "    route_graph,\n",
    "    target_dict,\n",
    "    calc_reaction_scores=True,\n",
    ")\n",
    "\n",
    "route_selector.define_variables()\n",
    "route_selector.set_objective()\n",
    "route_selector.set_constraints()\n",
    "route_selector.optimize(solver=None) # solver='GUROBI' for GUROBI (license needed)\n",
    "\n"
   ]
  },
  {
   "attachments": {},
   "cell_type": "markdown",
   "metadata": {},
   "source": [
    "### Visualize the results "
   ]
  },
  {
   "cell_type": "code",
   "execution_count": null,
   "metadata": {},
   "outputs": [],
   "source": [
    "from sparrow.visualizer import Visualizer\n",
    "import matplotlib.pyplot as plt\n",
    "\n",
    "vis = Visualizer(\n",
    "    route_graph,\n",
    "    nonzero_vars=route_selector.optimal_variables(),\n",
    "    )\n",
    "\n",
    "fig_out_dir = \"optimal_routes.png\"\n",
    "vis.plot_graph(fig_out_dir)\n",
    "\n",
    "plt.show()"
   ]
  }
 ],
 "metadata": {
  "kernelspec": {
   "display_name": "askcos",
   "language": "python",
   "name": "python3"
  },
  "language_info": {
   "codemirror_mode": {
    "name": "ipython",
    "version": 3
   },
   "file_extension": ".py",
   "mimetype": "text/x-python",
   "name": "python",
   "nbconvert_exporter": "python",
   "pygments_lexer": "ipython3",
   "version": "3.7.8"
  },
  "orig_nbformat": 4
 },
 "nbformat": 4,
 "nbformat_minor": 2
}
