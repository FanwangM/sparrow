{
 "cells": [
  {
   "attachments": {},
   "cell_type": "markdown",
   "metadata": {},
   "source": [
    "# Tutorial for Simple Route Optimization with ASKCOS \n",
    "Assumes ASKCOS exists in directory and can be imported. \n",
    "Follow installation instructions in README"
   ]
  },
  {
   "attachments": {},
   "cell_type": "markdown",
   "metadata": {},
   "source": [
    "### Import Targets and Scores"
   ]
  },
  {
   "cell_type": "code",
   "execution_count": 1,
   "metadata": {},
   "outputs": [],
   "source": [
    "import pandas as pd \n",
    "\n",
    "target_csv = \"target_list_7mols.csv\"\n",
    "df = pd.read_csv(target_csv)\n",
    "target_dict = {smi: score for smi, score in zip(df['SMILES'], df['score'])}"
   ]
  },
  {
   "attachments": {},
   "cell_type": "markdown",
   "metadata": {},
   "source": [
    "### Build Tree "
   ]
  },
  {
   "cell_type": "code",
   "execution_count": null,
   "metadata": {},
   "outputs": [],
   "source": [
    "import sys \n",
    "sys.path.append('/home/jfromer/sparrow/askcos-core') # change this for your system to where askcos folder is located\n",
    "\n",
    "from sparrow.tree_build_utils import build_rxn_graph\n",
    "route_graph = build_rxn_graph(\n",
    "    target_smis=list(target_dict.keys()),\n",
    "    n_cpus=5,\n",
    "    time_per_target=15\n",
    ")"
   ]
  },
  {
   "cell_type": "code",
   "execution_count": 3,
   "metadata": {},
   "outputs": [],
   "source": [
    "import pickle \n",
    "with open(\"paths.pickle\", \"rb\") as f:\n",
    "    paths = pickle.load(f)"
   ]
  },
  {
   "cell_type": "code",
   "execution_count": 5,
   "metadata": {},
   "outputs": [
    {
     "data": {
      "text/plain": [
       "[]"
      ]
     },
     "execution_count": 5,
     "metadata": {},
     "output_type": "execute_result"
    }
   ],
   "source": [
    "paths"
   ]
  },
  {
   "attachments": {},
   "cell_type": "markdown",
   "metadata": {},
   "source": [
    "Save the route_graph"
   ]
  },
  {
   "cell_type": "code",
   "execution_count": 3,
   "metadata": {},
   "outputs": [],
   "source": [
    "route_graph.save(filename=\"simple_route_graph_w_scores.pickle\")"
   ]
  },
  {
   "attachments": {},
   "cell_type": "markdown",
   "metadata": {},
   "source": [
    "### Set up the problem and solve \n",
    "First, define RouteSelector object and calculate reaction scores. Only reason to _not_ calculate scores is if you are loading a previously saved route_graph which has reaction scores already. (Reaction scores indicate how confident the ASCKOS forward predictor module is in desired product actually being produced)\n",
    "Second, define optimization problem variables, set the objectives and constraints, and finally solve"
   ]
  },
  {
   "cell_type": "code",
   "execution_count": null,
   "metadata": {},
   "outputs": [],
   "source": [
    "from sparrow.route_selector import RouteSelector\n",
    "\n",
    "route_selector = RouteSelector(\n",
    "    route_graph,\n",
    "    target_dict,\n",
    "    calc_reaction_scores=True,\n",
    ")\n",
    "\n",
    "route_selector.define_variables()\n",
    "route_selector.set_objective()\n",
    "route_selector.set_constraints()\n",
    "route_selector.optimize()\n",
    "\n"
   ]
  },
  {
   "attachments": {},
   "cell_type": "markdown",
   "metadata": {},
   "source": [
    "### Visualize the results "
   ]
  },
  {
   "cell_type": "code",
   "execution_count": null,
   "metadata": {},
   "outputs": [],
   "source": [
    "from sparrow.visualizer import Visualizer\n",
    "import matplotlib.pyplot as plt\n",
    "\n",
    "vis = Visualizer(\n",
    "    route_graph,\n",
    "    nonzero_vars=route_selector.optimal_variables(),\n",
    "    )\n",
    "\n",
    "fig_out_dir = \"tutorials/askcos_simple.png\"\n",
    "vis.plot_graph(fig_out_dir)\n",
    "\n",
    "plt.show()"
   ]
  }
 ],
 "metadata": {
  "kernelspec": {
   "display_name": "askcos",
   "language": "python",
   "name": "python3"
  },
  "language_info": {
   "codemirror_mode": {
    "name": "ipython",
    "version": 3
   },
   "file_extension": ".py",
   "mimetype": "text/x-python",
   "name": "python",
   "nbconvert_exporter": "python",
   "pygments_lexer": "ipython3",
   "version": "3.7.12"
  },
  "orig_nbformat": 4
 },
 "nbformat": 4,
 "nbformat_minor": 2
}
